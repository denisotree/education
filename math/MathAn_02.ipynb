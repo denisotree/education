{
 "cells": [
  {
   "cell_type": "code",
   "execution_count": 1,
   "metadata": {},
   "outputs": [],
   "source": [
    "import numpy as np\n",
    "import pandas as pd\n",
    "import matplotlib.pyplot as plt"
   ]
  },
  {
   "cell_type": "markdown",
   "metadata": {},
   "source": [
    "#### Предложить пример функции,  не имеющей предела в нуле и в бесконечностях."
   ]
  },
  {
   "cell_type": "markdown",
   "metadata": {},
   "source": [
    "$f(x) = \\sin{x} $"
   ]
  },
  {
   "cell_type": "markdown",
   "metadata": {},
   "source": [
    "$\\lim\\limits_{x \\to 1} \\sin x$ пределы от -1 до +1"
   ]
  },
  {
   "cell_type": "markdown",
   "metadata": {},
   "source": [
    "#### Привести пример функции, не имеющей предела в точке, но определенной в ней."
   ]
  },
  {
   "cell_type": "markdown",
   "metadata": {},
   "source": [
    "$ f(x) = x + 1 $"
   ]
  },
  {
   "cell_type": "markdown",
   "metadata": {},
   "source": [
    "$ \\lim\\limits_{x \\to \\infty} x + 1 $"
   ]
  },
  {
   "cell_type": "markdown",
   "metadata": {},
   "source": [
    "Функция определена во всех точках из множества вещественных чисел, но имеет пределы от $ - \\infty $ до $ + \\infty $"
   ]
  },
  {
   "cell_type": "markdown",
   "metadata": {},
   "source": [
    "#### Исследовать функцию $ f(x) = x^3 - x^2 $ по плану:\n",
    "1. Область задания и область значений\n",
    "2. Нули функции и их кратность\n",
    "3. Отрезки знакопостоянства\n",
    "4. Интервалы монотонности\n",
    "5. Четность функции\n",
    "6. Ограниченность\n",
    "7. Периодичность"
   ]
  },
  {
   "cell_type": "markdown",
   "metadata": {},
   "source": [
    "1.  \n",
    "Область определения функции $ f(x) = x^3 - x^2 $ от $ - \\infty $ до $ + \\infty $  \n",
    "Область значений ф-ции $ f(x) = x^3 - x^2 $ так же от $ - \\infty $ до $ + \\infty $"
   ]
  },
  {
   "cell_type": "markdown",
   "metadata": {},
   "source": [
    "2. Нули функции  \n",
    "Функция $ x^3 - x^2 = 0 $ если $ x = 0 $ и $ x = 1 $"
   ]
  },
  {
   "cell_type": "markdown",
   "metadata": {},
   "source": [
    "3. Отрезки законопостоянства  \n",
    "$ y > 0 \\ при \\ x \\in (1; + \\infty) $  \n",
    "$ y < 0 \\ при \\ x \\in (0; - \\infty) $"
   ]
  },
  {
   "cell_type": "markdown",
   "metadata": {},
   "source": [
    "4. Интервалы монотонности  "
   ]
  },
  {
   "cell_type": "code",
   "execution_count": 26,
   "metadata": {},
   "outputs": [
    {
     "data": {
      "image/png": "[encoded data removed]",
      "text/plain": [
       "<Figure size 432x288 with 1 Axes>"
      ]
     },
     "metadata": {
      "needs_background": "light"
     },
     "output_type": "display_data"
    }
   ],
   "source": [
    "x = np.arange(-10, 11, 0.5)\n",
    "y = [i ** 3 - i ** 2 for i in x ]\n",
    "plt.plot(x, y)\n",
    "plt.show()"
   ]
  },
  {
   "cell_type": "markdown",
   "metadata": {},
   "source": [
    "Ф-ция возрастает на всем промежутке от $ + \\infty $ до $ - \\infty $"
   ]
  },
  {
   "cell_type": "markdown",
   "metadata": {},
   "source": [
    "5. Четность ф-ции  \n",
    "$ f(-x) = (-x)^3 - (-x)^2 = -x^3 - x^2 $\n",
    "Функция нечетная"
   ]
  },
  {
   "cell_type": "markdown",
   "metadata": {},
   "source": [
    "6. Ограниченность ф-ции  \n",
    "Ф-ция не имеет ограничений сверху и снизу"
   ]
  },
  {
   "cell_type": "markdown",
   "metadata": {},
   "source": [
    "7. Периодичность ф-ции  \n",
    "Функция не является периодичной"
   ]
  },
  {
   "cell_type": "markdown",
   "metadata": {},
   "source": [
    "#### Найти предел:"
   ]
  },
  {
   "cell_type": "markdown",
   "metadata": {},
   "source": [
    "$\\lim\\limits_{x \\to 0} \\frac{3x^2 - 2x^2}{4x^2}$ = $\\lim\\limits_{x \\to 0} \\frac{\\frac{x^2}{x^2}}{\\frac{4x^2}{x^2}}$ = $ \\lim\\limits_{x \\to 0} \\frac{1}{4} $ = $ \\frac{1}{4} $"
   ]
  },
  {
   "cell_type": "markdown",
   "metadata": {},
   "source": [
    "$ \\lim\\limits_{x \\to 0} \\frac{\\sqrt{1+x}-1}{\\sqrt[3]{1+x}-1} $ = $ \\frac{(\\sqrt{1+x}-1)'}{(\\sqrt[3]{1+x}-1)'} $ = $ \\frac{3\\sqrt[6]{1+x}}{2} $ = $ \\frac{3}{2} $"
   ]
  },
  {
   "cell_type": "markdown",
   "metadata": {},
   "source": [
    "$ \\lim\\limits_{x \\to \\infty} (\\frac{x+3}{x})^{4x+1} $ = $ (1 + \\frac{3}{x})^{4x+1} $  \n",
    "u = $ \\frac{3}{x} $  \n",
    "$ \\lim\\limits_{x \\to \\infty} (1 + \\frac{3}{x})^{4x+1} $ = $ \\lim\\limits_{u \\to \\infty} (1 + \\frac{1}{u})^{12u+1} $ = $ \\lim\\limits_{u \\to \\infty} ((1 + \\frac{1}{u})^{1}(1 + \\frac{1}{u})^{12u}) $ = $ \\lim\\limits_{u \\to \\infty} (1 + \\frac{1}{u})^{12u} $ = $ (\\lim\\limits_{u \\to \\infty} (1 + \\frac{1}{u})^{u})^{12} $  \n",
    "$ \\lim\\limits_{u \\to \\infty} (1 + \\frac{1}{u})^{u} $ — второй замечательный предел равен e  \n",
    "Предел равен $ e^{12} $"
   ]
  },
  {
   "cell_type": "markdown",
   "metadata": {},
   "source": [
    "#### Найти предел:"
   ]
  },
  {
   "cell_type": "markdown",
   "metadata": {},
   "source": [
    "$\\lim\\limits_{x \\to 0} \\frac{\\sin(2x)}{4}$ = 0"
   ]
  },
  {
   "cell_type": "markdown",
   "metadata": {},
   "source": [
    "$\\lim\\limits_{x \\to 0} \\frac{x}{\\sin(x)}$ = $\\lim\\limits_{x \\to 0} \\frac{x'}{\\sin(x)'}$ = $\\lim\\limits_{x \\to 0} \\frac{1}{\\cos(x)}$ = 1"
   ]
  },
  {
   "cell_type": "markdown",
   "metadata": {},
   "source": [
    "$\\lim\\limits_{x \\to 0} \\frac{x}{\\arcsin(x)}$ = $\\lim\\limits_{x \\to 0} \\frac{x'}{\\arcsin(x)'}$ = $\\lim\\limits_{x \\to 0} \\sqrt{1-x^2}$ = 1"
   ]
  },
  {
   "cell_type": "markdown",
   "metadata": {},
   "source": [
    "$ \\lim\\limits_{x \\to \\infty} (\\frac{4x+3}{4x-3})^{6x} $"
   ]
  },
  {
   "cell_type": "markdown",
   "metadata": {},
   "source": [
    "$ \\lim\\limits_{x \\to \\infty} \\frac{\\sin(x) + \\ln(x)}{x} $"
   ]
  }
 ],
 "metadata": {
  "kernelspec": {
   "display_name": "Python 3",
   "language": "python",
   "name": "python3"
  },
  "language_info": {
   "codemirror_mode": {
    "name": "ipython",
    "version": 3
   },
   "file_extension": ".py",
   "mimetype": "text/x-python",
   "name": "python",
   "nbconvert_exporter": "python",
   "pygments_lexer": "ipython3",
   "version": "3.7.1"
  }
 },
 "nbformat": 4,
 "nbformat_minor": 2
}
