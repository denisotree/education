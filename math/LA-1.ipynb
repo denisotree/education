{
 "cells": [
  {
   "cell_type": "code",
   "execution_count": 11,
   "metadata": {},
   "outputs": [],
   "source": [
    "import numpy as np\n",
    "from numpy.linalg import norm"
   ]
  },
  {
   "cell_type": "markdown",
   "metadata": {},
   "source": [
    "##### Исследовать на линейную зависимость: 𝑓1(𝑥)=𝑒𝑥, 𝑓2(𝑥)=1, 𝑓3(𝑥)=𝑥+1, 𝑓4(𝑥)=𝑥−𝑒𝑥"
   ]
  },
  {
   "cell_type": "markdown",
   "metadata": {},
   "source": [
    "$a_1 * ex + a_2 * 1 + a_3 * (x+1) + a_4 * (x-ex) = 0$"
   ]
  },
  {
   "cell_type": "markdown",
   "metadata": {},
   "source": [
    "Если я правильно понял, данное равенство выполняется не только при $a_1 = a_2 = a_3 = a_4 = 0$, так как тут есть $(x-ex)$ соответстенно вектора, образуемые при помощи этих функций линейно зависим. (Возможно, в методичке опечатка и тут не ex а $e^x$)"
   ]
  },
  {
   "cell_type": "markdown",
   "metadata": {},
   "source": [
    "###### Исследовать на линейную зависимость: 𝑓1(𝑥)=2,𝑓2(𝑥)=𝑥,𝑓3(𝑥)=𝑥2,𝑓4(𝑥)=(𝑥+1)2. "
   ]
  },
  {
   "cell_type": "markdown",
   "metadata": {},
   "source": [
    "$a_1 * 2 + a_2 * x + a_3 * 2x + a_4 * 2(x+1) = 0$"
   ]
  },
  {
   "cell_type": "markdown",
   "metadata": {},
   "source": [
    "Тут противоположная ситуация — данное равенство выполняется только при $a_1 = a_2 = a_3 = a_4 = 0$, а значит вектора независимы"
   ]
  },
  {
   "cell_type": "markdown",
   "metadata": {},
   "source": [
    "###### Найти координаты вектора  𝑥=(2,3,5)∈ℝ3  в базисе  𝑏1=(0,0,10) ,  𝑏2=(2,0,0) ,  𝑏3=(0,1,0) "
   ]
  },
  {
   "cell_type": "markdown",
   "metadata": {},
   "source": [
    "$(2, 3, 5) = 2 * (2, 0, 0) + 3 * (0, 1, 0) + 5 * (0, 0, 10) = (4, 3, 50)$ "
   ]
  },
  {
   "cell_type": "markdown",
   "metadata": {},
   "source": [
    "###### Найти координаты вектора  3𝑥2−2𝑥+2∈ℝ3[𝑥] :"
   ]
  },
  {
   "cell_type": "markdown",
   "metadata": {},
   "source": [
    "а) в базисе  1 ,  𝑥 ,  𝑥2"
   ]
  },
  {
   "cell_type": "markdown",
   "metadata": {},
   "source": [
    "б) в базисе  𝑥2 ,  𝑥−1 ,  1"
   ]
  },
  {
   "cell_type": "markdown",
   "metadata": {},
   "source": [
    "$ 3𝑥^2−2𝑥+2 = 3x^2 - 2x^2 + 4x $"
   ]
  },
  {
   "cell_type": "markdown",
   "metadata": {},
   "source": [
    "$ 3𝑥^2 − 2𝑥 + 2 = 6x^3 - 2x^2 + 2x + 2 $"
   ]
  },
  {
   "cell_type": "markdown",
   "metadata": {},
   "source": [
    "Что дальше делать с этим добром не знаю"
   ]
  },
  {
   "cell_type": "markdown",
   "metadata": {},
   "source": [
    "###### Установить, является ли линейным подпространством:"
   ]
  },
  {
   "cell_type": "markdown",
   "metadata": {},
   "source": [
    "а) совокупность всех векторов трехмерного пространства, у которых по крайней мере одна из первых двух координат равна нулю"
   ]
  },
  {
   "cell_type": "markdown",
   "metadata": {},
   "source": [
    "б) все векторы, являющиеся линейными комбинациями данных векторов  {𝑢1,𝑢2,...,𝑢𝑛} "
   ]
  },
  {
   "cell_type": "code",
   "execution_count": null,
   "metadata": {},
   "outputs": [],
   "source": []
  },
  {
   "cell_type": "markdown",
   "metadata": {},
   "source": [
    "##### Найти скалярное произведение векторов  𝑥,𝑦 ∈ ℝ :"
   ]
  },
  {
   "cell_type": "markdown",
   "metadata": {},
   "source": [
    "а)  𝑥=(0,−3,6), 𝑦=(−4,7,9)"
   ]
  },
  {
   "cell_type": "markdown",
   "metadata": {},
   "source": [
    "б)  𝑥=(7,−4,0,1), 𝑦=(−3,1,11,2)"
   ]
  },
  {
   "cell_type": "code",
   "execution_count": 6,
   "metadata": {},
   "outputs": [
    {
     "data": {
      "text/plain": [
       "33"
      ]
     },
     "execution_count": 6,
     "metadata": {},
     "output_type": "execute_result"
    }
   ],
   "source": [
    "x1 = np.array([0, -3, 6])\n",
    "y1 = np.array([-4, 7, 9])\n",
    "np.dot(x1, y1)"
   ]
  },
  {
   "cell_type": "code",
   "execution_count": 9,
   "metadata": {},
   "outputs": [
    {
     "data": {
      "text/plain": [
       "-23"
      ]
     },
     "execution_count": 9,
     "metadata": {},
     "output_type": "execute_result"
    }
   ],
   "source": [
    "x2 = np.array([7, -4, 0, 1])\n",
    "y2 = np.array([-3, 1, 11, 2])\n",
    "x2.dot(y2)"
   ]
  },
  {
   "cell_type": "markdown",
   "metadata": {},
   "source": [
    "##### Найти нормы векторов  (4,2,4)  и  (12,3,4)  и угол между ними"
   ]
  },
  {
   "cell_type": "code",
   "execution_count": 12,
   "metadata": {},
   "outputs": [],
   "source": [
    "a = np.array([4, 2, 4])\n",
    "b = np.array([12, 3, 4])"
   ]
  },
  {
   "cell_type": "code",
   "execution_count": 17,
   "metadata": {},
   "outputs": [
    {
     "name": "stdout",
     "output_type": "stream",
     "text": [
      "6.0\n",
      "13.0\n"
     ]
    }
   ],
   "source": [
    "print(norm(a))\n",
    "print(norm(b))"
   ]
  },
  {
   "cell_type": "code",
   "execution_count": 24,
   "metadata": {},
   "outputs": [
    {
     "name": "stdout",
     "output_type": "stream",
     "text": [
      "Косинус угла между векторами 0.90\n",
      "Угол 0.46\n"
     ]
    }
   ],
   "source": [
    "cos_phi = np.dot(a, b) / norm(a) / norm(b)\n",
    "print(f'Косинус угла между векторами {cos_phi:.2f}')\n",
    "print(f'Угол {np.arccos(cos_phi):.2f}')"
   ]
  },
  {
   "cell_type": "markdown",
   "metadata": {},
   "source": [
    "##### Будет ли линейное пространство евклидовым, если за скалярное произведение принять:"
   ]
  },
  {
   "cell_type": "markdown",
   "metadata": {},
   "source": [
    "а) произведение длин векторов"
   ]
  },
  {
   "cell_type": "markdown",
   "metadata": {},
   "source": [
    "б) утроенное обычное скалярное произведение векторов?"
   ]
  },
  {
   "cell_type": "code",
   "execution_count": null,
   "metadata": {},
   "outputs": [],
   "source": []
  },
  {
   "cell_type": "markdown",
   "metadata": {},
   "source": [
    "##### Какие из нижеперечисленных векторов образуют ортонормированный базис в линейном пространстве  ℝ3 :"
   ]
  },
  {
   "cell_type": "markdown",
   "metadata": {},
   "source": [
    "а) (1,0,0),(0,0,1)"
   ]
  },
  {
   "cell_type": "markdown",
   "metadata": {},
   "source": [
    "б)  (1/2‾√,−1/2‾√,0),(1/2‾√,1/2‾√,0),(0,0,1)"
   ]
  },
  {
   "cell_type": "markdown",
   "metadata": {},
   "source": [
    "в)  (1/2,−1/2,0),(0,1/2,1/2),(0,0,1)"
   ]
  },
  {
   "cell_type": "markdown",
   "metadata": {},
   "source": [
    "г)  (1,0,0),(0,1,0),(0,0,1)"
   ]
  },
  {
   "cell_type": "code",
   "execution_count": null,
   "metadata": {},
   "outputs": [],
   "source": []
  }
 ],
 "metadata": {
  "kernelspec": {
   "display_name": "Python 3",
   "language": "python",
   "name": "python3"
  },
  "language_info": {
   "codemirror_mode": {
    "name": "ipython",
    "version": 3
   },
   "file_extension": ".py",
   "mimetype": "text/x-python",
   "name": "python",
   "nbconvert_exporter": "python",
   "pygments_lexer": "ipython3",
   "version": "3.7.4"
  }
 },
 "nbformat": 4,
 "nbformat_minor": 2
}
