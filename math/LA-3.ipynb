{
 "cells": [
  {
   "cell_type": "markdown",
   "metadata": {},
   "source": [
    "#### Найти собственные векторы и собственные значения для линейного оператора, заданного матрицей  \n",
    "\n",
    "$ A = \\begin{pmatrix} 1 & -6 \\\\ 2 & 6 \\end{pmatrix} $"
   ]
  },
  {
   "cell_type": "markdown",
   "metadata": {},
   "source": [
    "$ Ae_1 = e_1 + 2e_2 $  \n",
    "$ Ae_2 = -6e_1 + 6e_2 $"
   ]
  },
  {
   "cell_type": "markdown",
   "metadata": {},
   "source": [
    "$ \\begin{vmatrix} 1 - \\lambda & -6 \\\\ 2 & 6 - \\lambda \\end{vmatrix} = 0 $"
   ]
  },
  {
   "cell_type": "markdown",
   "metadata": {},
   "source": [
    "$ (1 - \\lambda)(6 - \\lambda) + 6 \\cdot 2 = 0 $"
   ]
  },
  {
   "cell_type": "markdown",
   "metadata": {},
   "source": [
    "$ \\lambda^2 - 7\\lambda + 12 = 0 $"
   ]
  },
  {
   "cell_type": "markdown",
   "metadata": {},
   "source": [
    "$ \\lambda_1 = 4 \\ \\lambda_2 = 3 $"
   ]
  },
  {
   "cell_type": "markdown",
   "metadata": {},
   "source": [
    "$\\begin{cases} x_1 - 6x_2 = 4x_1 \\\\ 2x_1 + 6x_2 = 3x_2 \\end{cases}$"
   ]
  },
  {
   "cell_type": "markdown",
   "metadata": {},
   "source": [
    "$\\begin{cases} -3x_1 - 6x_2 = 0 \\\\ 2x_1 + 3x_2 = 0 \\end{cases}$"
   ]
  },
  {
   "cell_type": "markdown",
   "metadata": {},
   "source": [
    "$\\begin{cases} x_2 = 0 \\\\ x_1 = 0 \\end{cases}$"
   ]
  },
  {
   "cell_type": "markdown",
   "metadata": {},
   "source": [
    "$ X = \\begin{pmatrix} 0 \\\\ 0 \\end{pmatrix} $"
   ]
  },
  {
   "cell_type": "markdown",
   "metadata": {},
   "source": [
    "#### Дан оператор поворота на 180 градусов, задаваемый матрицей  \n",
    "\n",
    "$ A = \\begin{pmatrix} -1 & 0 \\\\ 0 & -1 \\end{pmatrix} $\n",
    "  \n",
    "#### Показать, что любой вектор является для него собственным."
   ]
  },
  {
   "cell_type": "markdown",
   "metadata": {},
   "source": [
    "$ Ae_1 = - e_1 $  \n",
    "$ Ae_2 = - e_2 $"
   ]
  },
  {
   "cell_type": "markdown",
   "metadata": {},
   "source": [
    "Я не уверен, что прав, но мне кажется, что раз оператор меняет знак вертора на противоположный, он определен для любого ненулевого вектора"
   ]
  },
  {
   "cell_type": "markdown",
   "metadata": {},
   "source": [
    "#### Пусть линейный оператор задан матрицей  \n",
    "\n",
    "$ A = \\begin{pmatrix} 1 & 1 \\\\ -1 & 3 \\end{pmatrix} $\n",
    "\n",
    "#### Установить, является ли вектор  𝑥=(1,1)  собственным вектором этого линейного оператора."
   ]
  },
  {
   "cell_type": "markdown",
   "metadata": {},
   "source": [
    "$ \\begin{vmatrix} 1 - \\lambda & 1 \\\\ -1 & 3 - \\lambda \\end{vmatrix} = 0 $"
   ]
  },
  {
   "cell_type": "markdown",
   "metadata": {},
   "source": [
    "$ (1 - \\lambda)(3 - \\lambda) + 1 \\cdot -1 = 0 $"
   ]
  },
  {
   "cell_type": "markdown",
   "metadata": {},
   "source": [
    "$ \\lambda_1 = 3 \\ \\lambda_2 = 1 $"
   ]
  },
  {
   "cell_type": "markdown",
   "metadata": {},
   "source": [
    "$\\begin{cases} x_1 - x_2 = 3x_1 \\\\ -x_1 + 3x_2 = x_2 \\end{cases}$"
   ]
  },
  {
   "cell_type": "markdown",
   "metadata": {},
   "source": [
    "$ x_1 = 0 \\\\ x_2 = 0 $"
   ]
  },
  {
   "cell_type": "markdown",
   "metadata": {},
   "source": [
    "$ X = \\begin{pmatrix} 0 \\\\ 0 \\end{pmatrix} $"
   ]
  },
  {
   "cell_type": "markdown",
   "metadata": {},
   "source": [
    "Получается, что вектор x = (1, 1) не является собственным вектором этого оператора"
   ]
  },
  {
   "cell_type": "markdown",
   "metadata": {},
   "source": [
    "#### Пусть линейный оператор задан матрицей  \n",
    "\n",
    "$ A = \\begin{pmatrix} 0 & 3 & 0 \\\\ 3 & 0 & 0 \\\\ 0 & 0 & 3 \\end{pmatrix} $\n",
    "\n",
    "#### Установить, является ли вектор  𝑥=(3,−3,−4)  собственным вектором этого линейного оператора."
   ]
  },
  {
   "cell_type": "code",
   "execution_count": null,
   "metadata": {},
   "outputs": [],
   "source": []
  }
 ],
 "metadata": {
  "kernelspec": {
   "display_name": "Python 3",
   "language": "python",
   "name": "python3"
  },
  "language_info": {
   "codemirror_mode": {
    "name": "ipython",
    "version": 3
   },
   "file_extension": ".py",
   "mimetype": "text/x-python",
   "name": "python",
   "nbconvert_exporter": "python",
   "pygments_lexer": "ipython3",
   "version": "3.7.4"
  }
 },
 "nbformat": 4,
 "nbformat_minor": 2
}
