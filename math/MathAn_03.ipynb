{
 "cells": [
  {
   "cell_type": "code",
   "execution_count": 2,
   "metadata": {},
   "outputs": [],
   "source": [
    "import numpy as np\n",
    "import matplotlib.pyplot as plt"
   ]
  },
  {
   "cell_type": "markdown",
   "metadata": {},
   "source": [
    "### Найти производную выражения:"
   ]
  },
  {
   "cell_type": "markdown",
   "metadata": {},
   "source": [
    "1. $ (\\sin x \\cdot \\cos x)' $ = $ (\\sin x)' \\cdot \\cos x + (\\cos x)' \\cdot \\sin x $ = $ - \\sin^2 (x) + \\cos^2 (x) $"
   ]
  },
  {
   "cell_type": "markdown",
   "metadata": {},
   "source": [
    "2. $ (\\ln(2x+1)^3)' $ = $ \\frac {1}{(2x + 1)^3} ((2x + 1)^3)' $ = $ \\frac {3}{2x + 1} ((2x + 1)^2)' $ = $ \\frac {6}{2x + 1} $"
   ]
  },
  {
   "cell_type": "markdown",
   "metadata": {},
   "source": [
    "3. $ (\\sqrt {\\sin^2(\\ln(x^3))})' $ = $ (\\sin(\\ln(x^3)))' $ = $ \\cos(ln(x^3)) (\\ln(x^3))' $ = $ \\cos(ln(x^3)) \\frac{1}{x^3}(x^3)' $ = $ \\frac{3 \\cos(\\ln(x^3))}{x} $"
   ]
  },
  {
   "cell_type": "markdown",
   "metadata": {},
   "source": [
    "4. $ (\\frac{x^4}{\\ln(x)})' $ = $ \\frac{\\ln(x)(x^4)' - x^4(ln(x))'}{ln^2(x)} $ = $ \\frac{4\\ln(x)x^3 - x^4\\frac{1}{x}}{ln^2(x)} $ = $ \\frac{-x^3 + x^3\\ln(x^4)}{ln^2(x)} $"
   ]
  },
  {
   "cell_type": "markdown",
   "metadata": {},
   "source": [
    "### Найти выражение производной функции и ее значение в точке:"
   ]
  },
  {
   "cell_type": "markdown",
   "metadata": {},
   "source": [
    "$ f(x) = cos(x^2 + 3x), x_0 = \\sqrt{\\pi} $"
   ]
  },
  {
   "cell_type": "markdown",
   "metadata": {},
   "source": [
    "$ cos(x^2 + 3x)' $ = $ -sin(x^2 + 3x)(2x + 3) $"
   ]
  },
  {
   "cell_type": "markdown",
   "metadata": {},
   "source": [
    "$ -sin(\\sqrt{\\pi}^2 + 3\\sqrt{\\pi})(2\\sqrt{\\pi} + 3) $ = $ -sin(\\pi + 3\\sqrt{\\pi})(2\\sqrt{\\pi} + 3) $"
   ]
  },
  {
   "cell_type": "markdown",
   "metadata": {},
   "source": [
    "### Найти значение производной функции в точке:"
   ]
  },
  {
   "cell_type": "markdown",
   "metadata": {},
   "source": [
    "$ f(x) = \\frac{x^3-x^2-x-1}{1+2x+3x^2-4x^3}, x_0 = 0 $"
   ]
  },
  {
   "cell_type": "markdown",
   "metadata": {},
   "source": [
    "$ (\\frac{x^3-x^2-x-1}{1+2x+3x^2-4x^3})' $ = $ \\frac{(1+2x+3x^2-4x^3)(x^3-x^2-x-1)'-(1+2x+3x^2-4x^3)'(x^3-x^2-x-1)}{(1+2x+3x^2-4x^3)^2} $ = $ \\frac{(1+2x+3x^2-4x^3)(3x^2-2x-1)'-(2+6x-12x^2)'(x^3-x^2-x-1)}{(1+2x+3x^2-4x^3)^2} $ = $ -\\frac{x^4+4x^3+8x^2-4x-1}{(1+2x+3x^2-4x^3)^2} $"
   ]
  },
  {
   "cell_type": "markdown",
   "metadata": {},
   "source": [
    "В ноле производная принимает значение 1"
   ]
  },
  {
   "cell_type": "markdown",
   "metadata": {},
   "source": [
    "###  Исследовать ряд на сходимость, используя признак д’Аламбера:"
   ]
  },
  {
   "cell_type": "markdown",
   "metadata": {},
   "source": [
    "$ \\sum_{n=1}^\\infty \\frac{n^n}{n!^2}$"
   ]
  },
  {
   "cell_type": "markdown",
   "metadata": {},
   "source": [
    "$ \\lim\\limits_{n \\to \\infty} \\frac{\\frac{(n+1)^{n+1}}{(n+1)!^2}}{\\frac{n^n}{n!^2}} $ = $ \\lim\\limits_{n \\to \\infty} n^{-n} (n+1)^{n-1} $ = 0"
   ]
  },
  {
   "cell_type": "markdown",
   "metadata": {},
   "source": [
    "Так как q < 1 ряд сходится"
   ]
  },
  {
   "cell_type": "markdown",
   "metadata": {},
   "source": [
    "### Исследовать ряд на сходимость, используя радикальный признак Коши:"
   ]
  },
  {
   "cell_type": "markdown",
   "metadata": {},
   "source": [
    "$ \\sum_{n=1}^\\infty \\frac{n}{2^n}$"
   ]
  },
  {
   "cell_type": "markdown",
   "metadata": {},
   "source": [
    "$ \\lim\\limits_{n \\to \\infty} \\sqrt[n]{\\frac{n}{2^n}} $  = $ \\frac{1}{2} $"
   ]
  },
  {
   "cell_type": "markdown",
   "metadata": {},
   "source": [
    "### Исследовать ряд на сходимость, используя признак Лейбница:"
   ]
  },
  {
   "cell_type": "markdown",
   "metadata": {},
   "source": [
    "$ \\sum_{n=1}^\\infty \\frac{-1^n}{n + \\ln(n)}$ — ряд условно сходится, так как выполняются условия признака Лейбница, но сам ряд гармонический и соответственно расходится"
   ]
  },
  {
   "cell_type": "markdown",
   "metadata": {},
   "source": [
    "### Исследовать ряд на сходимость, используя признак Раабе:"
   ]
  },
  {
   "cell_type": "markdown",
   "metadata": {},
   "source": [
    "$ \\sum_{n=1}^\\infty \\frac{3^n}{2^n}$"
   ]
  },
  {
   "cell_type": "markdown",
   "metadata": {},
   "source": [
    "$ \\lim\\limits_{n \\to \\infty} n (\\frac{\\frac{3^n}{2^n}}{\\frac{3^{n+1}}{2^{n+1}}}-1)$ = $ \\lim\\limits_{n \\to \\infty} n (\\frac{3^n \\cdot 2^{n+1}}{2^n \\cdot 3^{n+1}}-1)$"
   ]
  },
  {
   "cell_type": "markdown",
   "metadata": {},
   "source": [
    "Дальше получается неопределенность $ \\frac{\\infty}{\\infty} $, а при попытке ее решить выходит $ \\infty $. Так как должно получаться как я понял какое-то число больше или меньше 1, не совсем понимаю как решать. Если в лоб, то $ \\infty > 1 $, значит ряд сходится. Но я не уверен в этом ответе."
   ]
  },
  {
   "cell_type": "markdown",
   "metadata": {},
   "source": [
    "### Разложить функцию по Тейлору в единице:"
   ]
  },
  {
   "cell_type": "markdown",
   "metadata": {},
   "source": [
    "$ f(x) = ln(16x^2), x = 1 $"
   ]
  },
  {
   "cell_type": "markdown",
   "metadata": {},
   "source": [
    "$ log(16) + 2(x - 1) - (x - 1)^2 + \\frac{2}{3}(x - 1)^3 + O((x - 1)^4) $"
   ]
  }
 ],
 "metadata": {
  "kernelspec": {
   "display_name": "Python 3",
   "language": "python",
   "name": "python3"
  },
  "language_info": {
   "codemirror_mode": {
    "name": "ipython",
    "version": 3
   },
   "file_extension": ".py",
   "mimetype": "text/x-python",
   "name": "python",
   "nbconvert_exporter": "python",
   "pygments_lexer": "ipython3",
   "version": "3.7.1"
  }
 },
 "nbformat": 4,
 "nbformat_minor": 2
}
