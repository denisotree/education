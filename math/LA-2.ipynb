{
 "cells": [
  {
   "cell_type": "code",
   "execution_count": 4,
   "metadata": {},
   "outputs": [],
   "source": [
    " import numpy as np"
   ]
  },
  {
   "cell_type": "markdown",
   "metadata": {},
   "source": [
    "1. Установить, какие произведения матриц  𝐴𝐵  и  𝐵𝐴  определены, и найти размерности полученных матриц:  \n",
    "    a) 𝐴  — матрица  4×2 ,  𝐵  — матрица  4×2  \n",
    "    b)  𝐴  — матрица  2×5 ,  𝐵  — матрица  5×3  \n",
    "    c)  𝐴  — матрица  8×3 ,  𝐵  — матрица  3×8  \n",
    "    d)  𝐴  — квадратная матрица  4×4 ,  𝐵  — квадратная матрица  4×4  "
   ]
  },
  {
   "cell_type": "markdown",
   "metadata": {},
   "source": [
    "    a. Произведение не определено  \n",
    "    b. Произведение определено, размерность 2х3  \n",
    "    c. Произведение определено, размерность 8х8  \n",
    "    d. Произведение определено, размерность 4х4  "
   ]
  },
  {
   "cell_type": "markdown",
   "metadata": {},
   "source": [
    "2. Найти сумму и произведение матриц  $A = \\begin{pmatrix}1 & 2 \\\\ 3 & 0 \\end{pmatrix}$  и  $B = \\begin{pmatrix}4 & -1 \\\\ 0 & 5 \\end{pmatrix}$"
   ]
  },
  {
   "cell_type": "code",
   "execution_count": 23,
   "metadata": {},
   "outputs": [],
   "source": [
    "A = np.array([[1, 2], [3, 0]])"
   ]
  },
  {
   "cell_type": "code",
   "execution_count": 24,
   "metadata": {},
   "outputs": [],
   "source": [
    "B = np.array([[4, -1], [0, 5]])"
   ]
  },
  {
   "cell_type": "code",
   "execution_count": 26,
   "metadata": {},
   "outputs": [
    {
     "data": {
      "text/plain": [
       "array([[5, 1],\n",
       "       [3, 5]])"
      ]
     },
     "execution_count": 26,
     "metadata": {},
     "output_type": "execute_result"
    }
   ],
   "source": [
    "A + B"
   ]
  },
  {
   "cell_type": "code",
   "execution_count": 27,
   "metadata": {},
   "outputs": [
    {
     "data": {
      "text/plain": [
       "array([[ 4,  9],\n",
       "       [12, -3]])"
      ]
     },
     "execution_count": 27,
     "metadata": {},
     "output_type": "execute_result"
    }
   ],
   "source": [
    "A.dot(B)"
   ]
  },
  {
   "cell_type": "markdown",
   "metadata": {},
   "source": [
    "3. Из закономерностей сложения и умножения матриц на число можно сделать вывод, что матрицы одного размера образуют линейное пространство. Вычислить линейную комбинацию $3𝐴−2𝐵+4𝐶$  для матриц  $A = \\begin{pmatrix}1 & 7 \\\\ 3 & 6 \\end{pmatrix}$ ,  $B = \\begin{pmatrix}0 & 5 \\\\ 2 & -1 \\end{pmatrix}$ ,  $C = \\begin{pmatrix}2 & -4 \\\\ 1 & 1 \\end{pmatrix}$."
   ]
  },
  {
   "cell_type": "code",
   "execution_count": null,
   "metadata": {},
   "outputs": [],
   "source": []
  },
  {
   "cell_type": "markdown",
   "metadata": {},
   "source": [
    "4. Дана матрица  $A = \\begin{pmatrix}4 & 1 \\\\ 5 & -2 \\\\ 2 & 3 \\end{pmatrix}$ . Вычислить  $𝐴𝐴^T  и  𝐴^T𝐴$ ."
   ]
  },
  {
   "cell_type": "code",
   "execution_count": 29,
   "metadata": {},
   "outputs": [],
   "source": [
    "A = np.array([[4, 1], [5, -2], [2, 3]])"
   ]
  },
  {
   "cell_type": "code",
   "execution_count": 31,
   "metadata": {},
   "outputs": [],
   "source": [
    "A_T = A.T"
   ]
  },
  {
   "cell_type": "code",
   "execution_count": 33,
   "metadata": {},
   "outputs": [
    {
     "data": {
      "text/plain": [
       "array([[17, 18, 11],\n",
       "       [18, 29,  4],\n",
       "       [11,  4, 13]])"
      ]
     },
     "execution_count": 33,
     "metadata": {},
     "output_type": "execute_result"
    }
   ],
   "source": [
    "A.dot(A_T)"
   ]
  },
  {
   "cell_type": "code",
   "execution_count": 35,
   "metadata": {},
   "outputs": [
    {
     "data": {
      "text/plain": [
       "(2, 2)"
      ]
     },
     "execution_count": 35,
     "metadata": {},
     "output_type": "execute_result"
    }
   ],
   "source": [
    "A_T.dot(A).shape"
   ]
  },
  {
   "cell_type": "markdown",
   "metadata": {},
   "source": [
    "5. Написать на Python функцию для перемножения двух произвольных матриц, не используя NumPy."
   ]
  },
  {
   "cell_type": "code",
   "execution_count": 58,
   "metadata": {},
   "outputs": [
    {
     "data": {
      "text/plain": [
       "[[4.0, 4.0, 4.0],\n",
       " [4.0, 4.0, 4.0],\n",
       " [4.0, 4.0, 4.0],\n",
       " [4.0, 4.0, 4.0],\n",
       " [4.0, 4.0, 4.0]]"
      ]
     },
     "execution_count": 58,
     "metadata": {},
     "output_type": "execute_result"
    }
   ],
   "source": [
    "def mult_matrix(m1, m2):\n",
    "    s=0\n",
    "    t=[]\n",
    "    m3=[]\n",
    "    if len(m1[0]) == len(m2):\n",
    "        r1=len(m1)\n",
    "        c1=len(m1[0])   \n",
    "        r2=c1\n",
    "        c2=len(m2[0])\n",
    "        for z in range(0,r1):\n",
    "            for j in range(0,c2):\n",
    "                for i in range(0,c1):\n",
    "                   s=s+m1[z][i]*m2[i][j]\n",
    "                t.append(s)\n",
    "                s=0\n",
    "            m3.append(t)\n",
    "            t=[]           \n",
    "        return m3\n",
    "    else:\n",
    "        print('Вы ввели неподходящие матрицы')\n",
    "        return False\n",
    "        \n",
    "A = np.ones((5, 4))\n",
    "B = np.ones((4, 3))\n",
    "\n",
    "mult_matrix(A, B)"
   ]
  },
  {
   "cell_type": "markdown",
   "metadata": {},
   "source": [
    "6. Вычислить определитель:\n",
    "  \n",
    "    a) $ \\begin{vmatrix} \\sin x & -\\cos x \\\\ \\cos x & \\sin x \\end{vmatrix} $\n",
    "      \n",
    "    b) $ \\begin{vmatrix} 4 & 2 & 3 \\\\ 0 & 5 & 1 \\\\ 0 & 0 & 9 \\end{vmatrix} $  \n",
    "      \n",
    "    c) $ \\begin{vmatrix} 1 & 2 & 3 \\\\ 4 & 5 & 6 \\\\ 7 & 8 & 9 \\end{vmatrix} $  "
   ]
  },
  {
   "cell_type": "code",
   "execution_count": 61,
   "metadata": {},
   "outputs": [],
   "source": [
    "det = np.linalg.det"
   ]
  },
  {
   "cell_type": "markdown",
   "metadata": {},
   "source": [
    "$ \\det(A) = \\begin{vmatrix} \\sin x & -\\cos x \\\\ \\cos x & \\sin x \\end{vmatrix} = \\sin x * \\sin x + \\cos x * \\cos x  = \\sin x^2 + \\cos x^2$  "
   ]
  },
  {
   "cell_type": "code",
   "execution_count": 63,
   "metadata": {},
   "outputs": [
    {
     "data": {
      "text/plain": [
       "180.0"
      ]
     },
     "execution_count": 63,
     "metadata": {},
     "output_type": "execute_result"
    }
   ],
   "source": [
    "B = np.matrix('4, 2, 3; 0, 5, 1; 0, 0, 9')\n",
    "det(B)"
   ]
  },
  {
   "cell_type": "code",
   "execution_count": 64,
   "metadata": {},
   "outputs": [
    {
     "data": {
      "text/plain": [
       "0.0"
      ]
     },
     "execution_count": 64,
     "metadata": {},
     "output_type": "execute_result"
    }
   ],
   "source": [
    "C = np.matrix('1, 2, 3; 4, 5, 6; 7, 8, 9')\n",
    "det(C)"
   ]
  },
  {
   "cell_type": "markdown",
   "metadata": {},
   "source": [
    "7. Определитель матрицы A равен 4.  \n",
    "Найти:  \n",
    "a) $ 𝑑𝑒𝑡(𝐴^2) $  \n",
    "b) $ 𝑑𝑒𝑡(𝐴^𝑇) $  \n",
    "c) $ 𝑑𝑒𝑡(2𝐴) $  "
   ]
  },
  {
   "cell_type": "markdown",
   "metadata": {},
   "source": [
    "$ \\det(A^2) = \\det(A) * \\det(A) = 16 $"
   ]
  },
  {
   "cell_type": "markdown",
   "metadata": {},
   "source": [
    "$ \\det(A^T) = \\det(A) = 4 $"
   ]
  },
  {
   "cell_type": "markdown",
   "metadata": {},
   "source": [
    "$ \\det(2A) = \\det(A) * 2 = 8 $"
   ]
  },
  {
   "cell_type": "markdown",
   "metadata": {},
   "source": [
    "8. Доказать, что матрица вырожденная:  \n",
    "  \n",
    "$ \\begin{pmatrix} -2 & 7 & -3 \\\\ 4 & -14 & 6 \\\\ -3 & 7 & 13 \\end{pmatrix} $  "
   ]
  },
  {
   "cell_type": "code",
   "execution_count": 72,
   "metadata": {},
   "outputs": [],
   "source": [
    "rank = np.linalg.matrix_rank\n",
    "inv = np.linalg.inv"
   ]
  },
  {
   "cell_type": "code",
   "execution_count": 76,
   "metadata": {},
   "outputs": [
    {
     "name": "stdout",
     "output_type": "stream",
     "text": [
      "2\n",
      "Нет обратной матрицы\n"
     ]
    }
   ],
   "source": [
    "A = np.matrix('-2, 7, -3; 4, -14, 6; -3, 7, 13')\n",
    "print(rank(A))\n",
    "try:\n",
    "    print(inv(A))\n",
    "except:\n",
    "    print('Нет обратной матрицы')"
   ]
  },
  {
   "cell_type": "markdown",
   "metadata": {},
   "source": [
    "Ранг матрицы меньше числа ее строк, и у нее отсутствует обратная матрица => Матрица $ \\begin{pmatrix} -2 & 7 & -3 \\\\ 4 & -14 & 6 \\\\ -3 & 7 & 13 \\end{pmatrix} $ вырождена"
   ]
  },
  {
   "cell_type": "markdown",
   "metadata": {},
   "source": [
    "9. Найти ранг матрицы:  \n",
    "  \n",
    "    a) $ \\begin{pmatrix} 1 & 2 & 3 \\\\ 1 & 1 & 1 \\\\ 2 & 3 & 4 \\end{pmatrix} $  \n",
    "      \n",
    "    b) $ \\begin{pmatrix} 0 & 0 & 2 & 1 \\\\ 0 & 0 & 2 & 2 \\\\ 0 & 0 & 4 & 3 \\\\ 2 & 3 & 5 & 6 \\end{pmatrix} $  "
   ]
  },
  {
   "cell_type": "code",
   "execution_count": 68,
   "metadata": {},
   "outputs": [
    {
     "data": {
      "text/plain": [
       "2"
      ]
     },
     "execution_count": 68,
     "metadata": {},
     "output_type": "execute_result"
    }
   ],
   "source": [
    "A = np.matrix('1, 2, 3; 1, 1, 1; 2, 3, 4')\n",
    "rank(A)"
   ]
  },
  {
   "cell_type": "code",
   "execution_count": 70,
   "metadata": {},
   "outputs": [
    {
     "data": {
      "text/plain": [
       "3"
      ]
     },
     "execution_count": 70,
     "metadata": {},
     "output_type": "execute_result"
    }
   ],
   "source": [
    "B = np.matrix('0, 0, 2, 1; 0, 0, 2, 2; 0, 0, 4, 3; 2, 3, 5, 6')\n",
    "rank(B)"
   ]
  }
 ],
 "metadata": {
  "kernelspec": {
   "display_name": "Python 3",
   "language": "python",
   "name": "python3"
  },
  "language_info": {
   "codemirror_mode": {
    "name": "ipython",
    "version": 3
   },
   "file_extension": ".py",
   "mimetype": "text/x-python",
   "name": "python",
   "nbconvert_exporter": "python",
   "pygments_lexer": "ipython3",
   "version": "3.7.4"
  }
 },
 "nbformat": 4,
 "nbformat_minor": 2
}
