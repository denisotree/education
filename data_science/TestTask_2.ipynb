{
 "cells": [
  {
   "cell_type": "code",
   "execution_count": 1,
   "metadata": {},
   "outputs": [],
   "source": [
    "import numpy as np\n",
    "import matplotlib.pyplot as plt"
   ]
  },
  {
   "cell_type": "markdown",
   "metadata": {},
   "source": [
    "Из стартового стандартного нормального (среднее=0, дисперсия=1) распределения делается одна выборка в 100 элементов. Далее из неё два раза случайным образом делаются подвыборки по 50 элементов, оба раза без повторов (при этом выборки могут пересекаться друг с другом). Затем вычисляется разница средних в каждой из них.  \n",
    "\n",
    "Разница средних - случайная величина.  \n",
    "Задача: с помощью моделирования оценить дисперсию этой величины (интервально, а не точечно)"
   ]
  },
  {
   "cell_type": "code",
   "execution_count": 2,
   "metadata": {},
   "outputs": [],
   "source": [
    "x = np.random.normal(0, 1, 100000)"
   ]
  },
  {
   "cell_type": "code",
   "execution_count": 15,
   "metadata": {},
   "outputs": [
    {
     "data": {
      "image/png": "[encoded data removed]",
      "text/plain": [
       "<Figure size 432x288 with 1 Axes>"
      ]
     },
     "metadata": {
      "needs_background": "light"
     },
     "output_type": "display_data"
    }
   ],
   "source": [
    "v = []\n",
    "for i in range(50):\n",
    "    A = np.random.choice(x, 100)\n",
    "    v.append(np.random.choice(A, 50).mean() - np.random.choice(A, 50).mean())\n",
    "\n",
    "v = np.array(v)\n",
    "plt.hist(v, bins=100);"
   ]
  },
  {
   "cell_type": "markdown",
   "metadata": {},
   "source": [
    "Я воспользовался методом Монте-карло — смоделировал вычиление разницы средих подвыборок 50 раз"
   ]
  },
  {
   "cell_type": "code",
   "execution_count": 18,
   "metadata": {},
   "outputs": [
    {
     "data": {
      "text/plain": [
       "-0.023780161016453444"
      ]
     },
     "execution_count": 18,
     "metadata": {},
     "output_type": "execute_result"
    }
   ],
   "source": [
    "v_mean = v.mean()\n",
    "v_mean"
   ]
  },
  {
   "cell_type": "markdown",
   "metadata": {},
   "source": [
    "$\\chi^2_{0.025,50} = 71,42$  \n",
    "$\\chi^2_{0.975,50} = 32,357$  "
   ]
  },
  {
   "cell_type": "code",
   "execution_count": 19,
   "metadata": {},
   "outputs": [
    {
     "data": {
      "text/plain": [
       "0.02418934714006069"
      ]
     },
     "execution_count": 19,
     "metadata": {},
     "output_type": "execute_result"
    }
   ],
   "source": [
    "v_x1 = sum((v - v_mean) ** 2) / 71.42\n",
    "v_x1"
   ]
  },
  {
   "cell_type": "code",
   "execution_count": 21,
   "metadata": {},
   "outputs": [
    {
     "data": {
      "text/plain": [
       "0.053391945258928035"
      ]
     },
     "execution_count": 21,
     "metadata": {},
     "output_type": "execute_result"
    }
   ],
   "source": [
    "v_x2 = sum((v - v_mean) ** 2) / 32.357\n",
    "v_x2"
   ]
  },
  {
   "cell_type": "markdown",
   "metadata": {},
   "source": [
    "Итого интервал дисперсии для разницы средних подвыборок от 0.02418934714006069 до 0.053391945258928035"
   ]
  }
 ],
 "metadata": {
  "kernelspec": {
   "display_name": "Python 3",
   "language": "python",
   "name": "python3"
  },
  "language_info": {
   "codemirror_mode": {
    "name": "ipython",
    "version": 3
   },
   "file_extension": ".py",
   "mimetype": "text/x-python",
   "name": "python",
   "nbconvert_exporter": "python",
   "pygments_lexer": "ipython3",
   "version": "3.7.4"
  }
 },
 "nbformat": 4,
 "nbformat_minor": 2
}
