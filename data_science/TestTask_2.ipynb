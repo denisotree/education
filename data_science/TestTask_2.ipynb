{
 "cells": [
  {
   "cell_type": "code",
   "execution_count": 1,
   "metadata": {},
   "outputs": [],
   "source": [
    "import numpy as np\n",
    "import matplotlib.pyplot as plt"
   ]
  },
  {
   "cell_type": "markdown",
   "metadata": {},
   "source": [
    "Из стартового стандартного нормального (среднее=0, дисперсия=1) распределения делается одна выборка в 100 элементов. Далее из неё два раза случайным образом делаются подвыборки по 50 элементов, оба раза без повторов (при этом выборки могут пересекаться друг с другом). Затем вычисляется разница средних в каждой из них.  \n",
    "\n",
    "Разница средних - случайная величина.  \n",
    "Задача: с помощью моделирования оценить дисперсию этой величины (интервально, а не точечно)"
   ]
  },
  {
   "cell_type": "code",
   "execution_count": 2,
   "metadata": {},
   "outputs": [],
   "source": [
    "def get_random_sample_mean_diff():\n",
    "    A = np.random.normal(0, 1, 100)\n",
    "    B = np.random.choice(A, 50, replace=False)\n",
    "    C = np.random.choice(A, 50, replace=False)\n",
    "    return B.mean() - C.mean()"
   ]
  },
  {
   "cell_type": "code",
   "execution_count": 21,
   "metadata": {},
   "outputs": [
    {
     "data": {
      "image/png": "[encoded data removed]",
      "text/plain": [
       "<Figure size 432x288 with 1 Axes>"
      ]
     },
     "metadata": {
      "needs_background": "light"
     },
     "output_type": "display_data"
    }
   ],
   "source": [
    "v = [get_random_sample_mean_diff() for _ in range(1000)]\n",
    "v = np.array(v)\n",
    "plt.hist(v, bins=100);"
   ]
  },
  {
   "cell_type": "code",
   "execution_count": 22,
   "metadata": {},
   "outputs": [
    {
     "data": {
      "text/plain": [
       "0.0017996980935407229"
      ]
     },
     "execution_count": 22,
     "metadata": {},
     "output_type": "execute_result"
    }
   ],
   "source": [
    "v_mean = v.mean()\n",
    "v_mean"
   ]
  },
  {
   "cell_type": "markdown",
   "metadata": {},
   "source": [
    "Точечная дисперсия"
   ]
  },
  {
   "cell_type": "code",
   "execution_count": 23,
   "metadata": {},
   "outputs": [
    {
     "data": {
      "text/plain": [
       "0.0221999148650851"
      ]
     },
     "execution_count": 23,
     "metadata": {},
     "output_type": "execute_result"
    }
   ],
   "source": [
    "v_var = v.var()\n",
    "v_var"
   ]
  },
  {
   "cell_type": "markdown",
   "metadata": {},
   "source": [
    "Доверительный интервал для дисперсии"
   ]
  },
  {
   "cell_type": "markdown",
   "metadata": {},
   "source": [
    "Критические точки:\n",
    "$\\chi^2_{0.025,50} = 71,42$  \\n\",\t\t     \"Доверительный интервал для дисперсии\"\n",
    "$\\\\chi^2_{0.975,50} = 32,357$  \""
   ]
  },
  {
   "cell_type": "code",
   "execution_count": 31,
   "metadata": {},
   "outputs": [
    {
     "data": {
      "text/plain": [
       "0.02037566319718741"
      ]
     },
     "execution_count": 31,
     "metadata": {},
     "output_type": "execute_result"
    }
   ],
   "source": [
    "v_x1 = sum((v - v_mean) ** 2) / 1089.53091\n",
    "v_x1"
   ]
  },
  {
   "cell_type": "code",
   "execution_count": 32,
   "metadata": {},
   "outputs": [
    {
     "data": {
      "text/plain": [
       "0.024281915402919005"
      ]
     },
     "execution_count": 32,
     "metadata": {},
     "output_type": "execute_result"
    }
   ],
   "source": [
    "v_x2 = sum((v - v_mean) ** 2) / 914.2571538\n",
    "v_x2"
   ]
  }
 ],
 "metadata": {
  "kernelspec": {
   "display_name": "Python 3",
   "language": "python",
   "name": "python3"
  },
  "language_info": {
   "codemirror_mode": {
    "name": "ipython",
    "version": 3
   },
   "file_extension": ".py",
   "mimetype": "text/x-python",
   "name": "python",
   "nbconvert_exporter": "python",
   "pygments_lexer": "ipython3",
   "version": "3.7.4"
  }
 },
 "nbformat": 4,
 "nbformat_minor": 2
}
