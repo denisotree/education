{
 "cells": [
  {
   "cell_type": "markdown",
   "metadata": {},
   "source": [
    "Вопросы:  \n",
    "    1. Какие условия нужно проверить для корректного сравнения групп  \n",
    "    2. При выполнении условий, какие можно сделать выводы"
   ]
  },
  {
   "cell_type": "code",
   "execution_count": 3,
   "metadata": {},
   "outputs": [],
   "source": [
    "import pandas as pd\n",
    "import numpy as np"
   ]
  },
  {
   "cell_type": "code",
   "execution_count": 31,
   "metadata": {},
   "outputs": [],
   "source": [
    "ab = pd.DataFrame({\"UserCount\": {\"A\": 10000, \"B\": 20000}, \"ARPPDAU\": {\"A\": 0.55, \"B\": 0.57}, \"s^2\": {\"A\": 0.7, \"B\": 0.8}})"
   ]
  },
  {
   "cell_type": "code",
   "execution_count": 33,
   "metadata": {},
   "outputs": [
    {
     "data": {
      "text/html": [
       "<div>\n",
       "<style scoped>\n",
       "    .dataframe tbody tr th:only-of-type {\n",
       "        vertical-align: middle;\n",
       "    }\n",
       "\n",
       "    .dataframe tbody tr th {\n",
       "        vertical-align: top;\n",
       "    }\n",
       "\n",
       "    .dataframe thead th {\n",
       "        text-align: right;\n",
       "    }\n",
       "</style>\n",
       "<table border=\"1\" class=\"dataframe\">\n",
       "  <thead>\n",
       "    <tr style=\"text-align: right;\">\n",
       "      <th></th>\n",
       "      <th>UserCount</th>\n",
       "      <th>ARPPDAU</th>\n",
       "      <th>s^2</th>\n",
       "    </tr>\n",
       "  </thead>\n",
       "  <tbody>\n",
       "    <tr>\n",
       "      <th>A</th>\n",
       "      <td>10000</td>\n",
       "      <td>0.55</td>\n",
       "      <td>0.7</td>\n",
       "    </tr>\n",
       "    <tr>\n",
       "      <th>B</th>\n",
       "      <td>20000</td>\n",
       "      <td>0.57</td>\n",
       "      <td>0.8</td>\n",
       "    </tr>\n",
       "  </tbody>\n",
       "</table>\n",
       "</div>"
      ],
      "text/plain": [
       "   UserCount  ARPPDAU  s^2\n",
       "A      10000     0.55  0.7\n",
       "B      20000     0.57  0.8"
      ]
     },
     "execution_count": 33,
     "metadata": {},
     "output_type": "execute_result"
    }
   ],
   "source": [
    "ab"
   ]
  },
  {
   "cell_type": "markdown",
   "metadata": {},
   "source": [
    "Гипотеза 0 в том, что лучшие показатели теста B — случайность, альтернативная — в том, что тест B и правда дает больший показатель ARPPDAU"
   ]
  },
  {
   "cell_type": "markdown",
   "metadata": {},
   "source": [
    "Проверим через t-критерий Стьюдента"
   ]
  },
  {
   "cell_type": "markdown",
   "metadata": {},
   "source": [
    "$ t_e = \\frac{|M_1 - M_2|}{\\sqrt{\\frac{s^2_1}{N_1} + \\frac{s^2_2}{N_2}}} $"
   ]
  },
  {
   "cell_type": "code",
   "execution_count": 36,
   "metadata": {},
   "outputs": [],
   "source": [
    "M_1 = ab.loc[\"A\"][\"ARPPDAU\"]\n",
    "M_2 = ab.loc[\"B\"][\"ARPPDAU\"]\n",
    "s2_1 = ab.loc[\"A\"][\"s^2\"]\n",
    "s2_2 = ab.loc[\"B\"][\"s^2\"]\n",
    "N_1 = ab.loc[\"A\"][\"UserCount\"]\n",
    "N_2 = ab.loc[\"B\"][\"UserCount\"]"
   ]
  },
  {
   "cell_type": "code",
   "execution_count": 40,
   "metadata": {},
   "outputs": [
    {
     "data": {
      "text/plain": [
       "1.9069251784911758"
      ]
     },
     "execution_count": 40,
     "metadata": {},
     "output_type": "execute_result"
    }
   ],
   "source": [
    "t_e = abs(M_1 - M_2) / np.sqrt((s2_1/N_1) + (s2_2/N_2))\n",
    "t_e"
   ]
  },
  {
   "cell_type": "code",
   "execution_count": 42,
   "metadata": {},
   "outputs": [
    {
     "data": {
      "text/plain": [
       "29998.0"
      ]
     },
     "execution_count": 42,
     "metadata": {},
     "output_type": "execute_result"
    }
   ],
   "source": [
    "df = N_1 + N_2 - 2\n",
    "df"
   ]
  },
  {
   "cell_type": "markdown",
   "metadata": {},
   "source": [
    "Табличное занчение для большого к-ва степеней (для $\\infty$) свободы в диапазоне 95% — 1,96, что больше полученного нами => с 95% вероятностью можно утверждать, что тест В дает лучший показатель среднего значения платящих пользователей в день."
   ]
  },
  {
   "cell_type": "markdown",
   "metadata": {},
   "source": [
    "Могу предположить, что во втором тесте пользователям давалась какая-то дополнительная ценность, которая повышала вероятность платежа у лояльной аудитории."
   ]
  }
 ],
 "metadata": {
  "kernelspec": {
   "display_name": "Python 3",
   "language": "python",
   "name": "python3"
  },
  "language_info": {
   "codemirror_mode": {
    "name": "ipython",
    "version": 3
   },
   "file_extension": ".py",
   "mimetype": "text/x-python",
   "name": "python",
   "nbconvert_exporter": "python",
   "pygments_lexer": "ipython3",
   "version": "3.7.4"
  }
 },
 "nbformat": 4,
 "nbformat_minor": 2
}
