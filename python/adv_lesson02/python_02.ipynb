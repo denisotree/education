{
 "cells": [
  {
   "cell_type": "markdown",
   "metadata": {},
   "source": [
    "1. Реализовать скрипт для чтения/записи данных в формате csv."
   ]
  },
  {
   "cell_type": "code",
   "execution_count": 12,
   "metadata": {},
   "outputs": [],
   "source": [
    "import csv"
   ]
  },
  {
   "cell_type": "code",
   "execution_count": 13,
   "metadata": {},
   "outputs": [],
   "source": [
    "data_csv = [\n",
    "    {\"header1\": \"data1\", \"header2\": \"data7\", \"header3\": \"data8\", \"header4\": \"data9\", \"header5\": \"data10\"},\n",
    "    {\"header1\": \"data6\", \"header2\": \"data2\", \"header3\": \"data8\", \"header4\": \"data9\", \"header5\": \"data10\"},\n",
    "    {\"header1\": \"data6\", \"header2\": \"data7\", \"header3\": \"data3\", \"header4\": \"data9\", \"header5\": \"data10\"},\n",
    "    {\"header1\": \"data6\", \"header2\": \"data7\", \"header3\": \"data8\", \"header4\": \"data4\", \"header5\": \"data10\"},\n",
    "    {\"header1\": \"data6\", \"header2\": \"data7\", \"header3\": \"data8\", \"header4\": \"data9\", \"header5\": \"data5\"},\n",
    "    {\"header1\": \"data6\", \"header2\": \"data7\", \"header3\": \"data8\", \"header4\": \"data9\", \"header5\": \"data10\"},\n",
    "    {\"header1\": \"data6\", \"header2\": \"data7\", \"header3\": \"data8\", \"header4\": \"data9\", \"header5\": \"data10\"},\n",
    "]\n",
    "\n",
    "fields = ['header1', 'header2', 'header3', 'header4', 'header5']\n",
    "\n",
    "with open('data/csv_file.csv', 'w') as f:\n",
    "    wrirer = csv.DictWriter(f, fieldnames=fields)\n",
    "    wrirer.writeheader()\n",
    "    for row in data_csv:\n",
    "        wrirer.writerow(row)"
   ]
  },
  {
   "cell_type": "code",
   "execution_count": 14,
   "metadata": {},
   "outputs": [
    {
     "name": "stdout",
     "output_type": "stream",
     "text": [
      "OrderedDict([('header1', 'data1'), ('header2', 'data7'), ('header3', 'data8'), ('header4', 'data9'), ('header5', 'data10')])\n",
      "OrderedDict([('header1', 'data6'), ('header2', 'data2'), ('header3', 'data8'), ('header4', 'data9'), ('header5', 'data10')])\n",
      "OrderedDict([('header1', 'data6'), ('header2', 'data7'), ('header3', 'data3'), ('header4', 'data9'), ('header5', 'data10')])\n",
      "OrderedDict([('header1', 'data6'), ('header2', 'data7'), ('header3', 'data8'), ('header4', 'data4'), ('header5', 'data10')])\n",
      "OrderedDict([('header1', 'data6'), ('header2', 'data7'), ('header3', 'data8'), ('header4', 'data9'), ('header5', 'data5')])\n",
      "OrderedDict([('header1', 'data6'), ('header2', 'data7'), ('header3', 'data8'), ('header4', 'data9'), ('header5', 'data10')])\n",
      "OrderedDict([('header1', 'data6'), ('header2', 'data7'), ('header3', 'data8'), ('header4', 'data9'), ('header5', 'data10')])\n"
     ]
    }
   ],
   "source": [
    "with open('data/csv_file.csv', 'r') as f:\n",
    "    resp = csv.DictReader(f)\n",
    "    \n",
    "    for r in resp:\n",
    "        print(r)"
   ]
  },
  {
   "cell_type": "markdown",
   "metadata": {},
   "source": [
    "2. Реализовать скрипт для чтения/записи данных в формате json."
   ]
  },
  {
   "cell_type": "code",
   "execution_count": 15,
   "metadata": {},
   "outputs": [],
   "source": [
    "import json\n",
    "from pprint import pprint"
   ]
  },
  {
   "cell_type": "code",
   "execution_count": 16,
   "metadata": {},
   "outputs": [],
   "source": [
    "data_json = [\n",
    "    {\"header1\": \"data1\", \"header2\": \"data7\", \"header3\": \"data8\", \"header4\": \"data9\", \"header5\": \"data10\"},\n",
    "    {\"header1\": \"data6\", \"header2\": \"data2\", \"header3\": \"data8\", \"header4\": \"data9\", \"header5\": \"data10\"},\n",
    "    {\"header1\": \"data6\", \"header2\": \"data7\", \"header3\": \"data3\", \"header4\": \"data9\", \"header5\": \"data10\"},\n",
    "    {\"header1\": \"data6\", \"header2\": \"data7\", \"header3\": \"data8\", \"header4\": \"data4\", \"header5\": \"data10\"},\n",
    "    {\"header1\": \"data6\", \"header2\": \"data7\", \"header3\": \"data8\", \"header4\": \"data9\", \"header5\": \"data5\"},\n",
    "    {\"header1\": \"data6\", \"header2\": \"data7\", \"header3\": \"data8\", \"header4\": \"data9\", \"header5\": \"data10\"},\n",
    "    {\"header1\": \"data6\", \"header2\": \"data7\", \"header3\": \"data8\", \"header4\": \"data9\", \"header5\": \"data10\"},\n",
    "]"
   ]
  },
  {
   "cell_type": "code",
   "execution_count": 17,
   "metadata": {},
   "outputs": [],
   "source": [
    "with open('data/json_file.json', 'w') as f:\n",
    "    json.dump(data_json, f, indent=4)"
   ]
  },
  {
   "cell_type": "code",
   "execution_count": 18,
   "metadata": {},
   "outputs": [
    {
     "name": "stdout",
     "output_type": "stream",
     "text": [
      "[{'header1': 'data1',\n",
      "  'header2': 'data7',\n",
      "  'header3': 'data8',\n",
      "  'header4': 'data9',\n",
      "  'header5': 'data10'},\n",
      " {'header1': 'data6',\n",
      "  'header2': 'data2',\n",
      "  'header3': 'data8',\n",
      "  'header4': 'data9',\n",
      "  'header5': 'data10'},\n",
      " {'header1': 'data6',\n",
      "  'header2': 'data7',\n",
      "  'header3': 'data3',\n",
      "  'header4': 'data9',\n",
      "  'header5': 'data10'},\n",
      " {'header1': 'data6',\n",
      "  'header2': 'data7',\n",
      "  'header3': 'data8',\n",
      "  'header4': 'data4',\n",
      "  'header5': 'data10'},\n",
      " {'header1': 'data6',\n",
      "  'header2': 'data7',\n",
      "  'header3': 'data8',\n",
      "  'header4': 'data9',\n",
      "  'header5': 'data5'},\n",
      " {'header1': 'data6',\n",
      "  'header2': 'data7',\n",
      "  'header3': 'data8',\n",
      "  'header4': 'data9',\n",
      "  'header5': 'data10'},\n",
      " {'header1': 'data6',\n",
      "  'header2': 'data7',\n",
      "  'header3': 'data8',\n",
      "  'header4': 'data9',\n",
      "  'header5': 'data10'}]\n"
     ]
    }
   ],
   "source": [
    "with open('data/json_file.json') as f:\n",
    "    pprint(json.load(f))"
   ]
  },
  {
   "cell_type": "markdown",
   "metadata": {},
   "source": [
    "3. Реализовать скрипт для чтения/записи данных в формате yaml."
   ]
  },
  {
   "cell_type": "code",
   "execution_count": 19,
   "metadata": {},
   "outputs": [],
   "source": [
    "import yaml"
   ]
  },
  {
   "cell_type": "code",
   "execution_count": 20,
   "metadata": {},
   "outputs": [],
   "source": [
    "data_yaml = {\n",
    "    'title1': 'value2',\n",
    "    'title2': 'data3',\n",
    "    'title4': {\n",
    "        'title5': ['data1', 'data2', 'data4', 'data5']\n",
    "    }\n",
    "}"
   ]
  },
  {
   "cell_type": "code",
   "execution_count": 21,
   "metadata": {},
   "outputs": [],
   "source": [
    "with open('data/yaml_file.yaml', 'w') as f:\n",
    "    yaml.safe_dump(data_yaml, f)"
   ]
  },
  {
   "cell_type": "code",
   "execution_count": 22,
   "metadata": {},
   "outputs": [
    {
     "name": "stdout",
     "output_type": "stream",
     "text": [
      "{'title1': 'value2', 'title2': 'data3', 'title4': {'title5': ['data1', 'data2', 'data4', 'data5']}}\n"
     ]
    }
   ],
   "source": [
    "with open('data/yaml_file.yaml') as f:\n",
    "    print(yaml.safe_load(f))"
   ]
  },
  {
   "cell_type": "markdown",
   "metadata": {},
   "source": [
    "4. Реализовать скрипт для преобразования данных в формате csv в формат json."
   ]
  },
  {
   "cell_type": "code",
   "execution_count": 26,
   "metadata": {},
   "outputs": [],
   "source": [
    "with open('data/csv_file.csv') as f:\n",
    "    resp = csv.DictReader(f)\n",
    "    with open('data/csv_to_json.json', 'w') as j_file:\n",
    "        for r in resp:\n",
    "            json.dump(dict(r), j_file, indent=4)"
   ]
  },
  {
   "cell_type": "markdown",
   "metadata": {},
   "source": [
    "5. Реализовать скрипт для преобразования данных в формате csv в формат yaml."
   ]
  },
  {
   "cell_type": "code",
   "execution_count": 29,
   "metadata": {},
   "outputs": [],
   "source": [
    "with open('data/csv_file.csv') as f:\n",
    "    resp = csv.DictReader(f)\n",
    "    with open('data/csv_to_yaml.yaml', 'w') as y_file:\n",
    "        for r in resp:\n",
    "            yaml.safe_dump(dict(r), y_file, indent=4)"
   ]
  },
  {
   "cell_type": "markdown",
   "metadata": {},
   "source": [
    "6. Реализовать скрипт для преобразования данных в формате json в формат yaml."
   ]
  },
  {
   "cell_type": "code",
   "execution_count": 31,
   "metadata": {},
   "outputs": [],
   "source": [
    "with open('data/json_file.json') as f:\n",
    "    resp = json.load(f)\n",
    "    with open('data/json_to_yaml.yaml', 'w') as y_file:\n",
    "        for r in resp:\n",
    "            yaml.safe_dump(r, y_file, indent=4)"
   ]
  }
 ],
 "metadata": {
  "kernelspec": {
   "display_name": "Python 3",
   "language": "python",
   "name": "python3"
  },
  "language_info": {
   "codemirror_mode": {
    "name": "ipython",
    "version": 3
   },
   "file_extension": ".py",
   "mimetype": "text/x-python",
   "name": "python",
   "nbconvert_exporter": "python",
   "pygments_lexer": "ipython3",
   "version": "3.7.4"
  }
 },
 "nbformat": 4,
 "nbformat_minor": 2
}
