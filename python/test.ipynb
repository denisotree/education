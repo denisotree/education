{
 "cells": [
  {
   "cell_type": "code",
   "execution_count": 1,
   "metadata": {},
   "outputs": [],
   "source": [
    "data = {\n",
    "    \"title\": \"Одиссея в \\\"Циферблате\\\"/Лекция Ильи Буяновского о священных рощах Марий Эл / 22 апреля в 19:00\",\n",
    "    \"date\": 1366559533000,\n",
    "    \"description\": \"Паломники, путешественники и вояжеры!\\nК нам неслышной поступью подкралось лето, которое вынуждает нас определиться с маршрутом для путешествия. А в Циферблат тем временем приходят люди, готовые рассказать о своих \\\"одиссеях\\\". Мы подумали и решили, что, в общем-то, не так уж и плохо, если они поведают нам о своих поездках в Гренландию, Марий Эл или Эльзас.\\nВ этот понедельник, 22 апреля, путешественник Илья Буяновский (varandej в Живом Журнале ) расскажет о священных рощах Марий Эл и совершаемых в них молебнах. На одном из них в 2008 году он побывал самолично! Пруфпик прилагается.\\n\",\n",
    "    \"thumbnailUrl\": \"\"\n",
    "}"
   ]
  },
  {
   "cell_type": "code",
   "execution_count": 2,
   "metadata": {},
   "outputs": [
    {
     "ename": "ModuleNotFoundError",
     "evalue": "No module named 'request'",
     "output_type": "error",
     "traceback": [
      "\u001b[0;31m---------------------------------------------------------------------------\u001b[0m",
      "\u001b[0;31mModuleNotFoundError\u001b[0m                       Traceback (most recent call last)",
      "\u001b[0;32m<ipython-input-2-610ed966fbe9>\u001b[0m in \u001b[0;36m<module>\u001b[0;34m\u001b[0m\n\u001b[0;32m----> 1\u001b[0;31m \u001b[0;32mimport\u001b[0m \u001b[0mrequest\u001b[0m\u001b[0;34m\u001b[0m\u001b[0;34m\u001b[0m\u001b[0m\n\u001b[0m\u001b[1;32m      2\u001b[0m \u001b[0;32mimport\u001b[0m \u001b[0mjson\u001b[0m\u001b[0;34m\u001b[0m\u001b[0;34m\u001b[0m\u001b[0m\n\u001b[1;32m      3\u001b[0m \u001b[0;34m\u001b[0m\u001b[0m\n\u001b[1;32m      4\u001b[0m \u001b[0murl\u001b[0m \u001b[0;34m=\u001b[0m \u001b[0;34m'http://ab.ziferblat.net/data-2/venue/2/event/ru'\u001b[0m\u001b[0;34m\u001b[0m\u001b[0;34m\u001b[0m\u001b[0m\n\u001b[1;32m      5\u001b[0m \u001b[0;34m\u001b[0m\u001b[0m\n",
      "\u001b[0;31mModuleNotFoundError\u001b[0m: No module named 'request'"
     ]
    }
   ],
   "source": [
    "import request\n",
    "import json\n",
    "\n",
    "url = 'http://ab.ziferblat.net/data-2/venue/2/event/ru'\n",
    "\n",
    "headers = {\"Content-Type\": \"application/json\"}\n",
    "\n",
    "response = requests.put(url, data=json.dumps(data), headers=headers)\n",
    "\n",
    "res = response.json()\n",
    "\n",
    "print(res)"
   ]
  }
 ],
 "metadata": {
  "kernelspec": {
   "display_name": "Python 3",
   "language": "python",
   "name": "python3"
  },
  "language_info": {
   "codemirror_mode": {
    "name": "ipython",
    "version": 3
   },
   "file_extension": ".py",
   "mimetype": "text/x-python",
   "name": "python",
   "nbconvert_exporter": "python",
   "pygments_lexer": "ipython3",
   "version": "3.7.1"
  }
 },
 "nbformat": 4,
 "nbformat_minor": 2
}
